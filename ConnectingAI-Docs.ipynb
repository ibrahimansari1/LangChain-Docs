{
 "cells": [
  {
   "cell_type": "code",
   "execution_count": null,
   "id": "be3b1021-d0a5-441b-a5e3-e70ad1b6a637",
   "metadata": {},
   "outputs": [],
   "source": [
    "from langchain.document_loaders import GoogleDriveLoader\n",
    "import os\n",
    "loader = GoogleDriveLoader(document_ids=[\"put doc here\"],\n",
    "                          credentials_path=\"PATH TO credentials.json FILE\")\n",
    "docs = loader.load()"
   ]
  },
  {
   "cell_type": "code",
   "execution_count": null,
   "id": "26571f75-a2e5-4a37-a6c8-439f855ae093",
   "metadata": {},
   "outputs": [],
   "source": [
    "#SUMMARIZATION\n",
    "from langchain.llms import OpenAI\n",
    "from langchain.chains.summarize import load_summarize_chain\n",
    "llm = OpenAI(temperature=0, openai_api_key=os.environ['OPENAI_API_KEY'])\n",
    "chain = load_summarize_chain(llm, chain_type=\"map_reduce\", verbose= False)\n",
    "chain.run(docs)"
   ]
  },
  {
   "cell_type": "code",
   "execution_count": null,
   "id": "df34f521-1258-4a7e-97a5-bd449cbb93e2",
   "metadata": {},
   "outputs": [],
   "source": [
    "#Q and A\n",
    "from langchain.chains.question_answering import load_qa_chain\n",
    "query = \"Question here\"\n",
    "chain = load_qa_chain(llm, chain_type=\"stuff\", verbose=True)\n",
    "chain.run(input_documents=docs, question=query)"
   ]
  },
  {
   "cell_type": "code",
   "execution_count": null,
   "id": "d0179587-8128-47a0-a1bf-b053399214d6",
   "metadata": {},
   "outputs": [],
   "source": [
    "#Even getting answers after appending original doc\n",
    "loader = GoogleDriveLoader(document_ids=[\"another doc here\"],\n",
    "                           credentials_path=\"../../desktop_credetnaisl.json\")\n",
    "new_doc = loader.load()\n",
    "docs.extend(new_doc)\n",
    "query = \"question here\"\n",
    "chain = load_qa_chain(llm, chain_type=\"stuff\", verbose=True)\n",
    "chain.run(input_documents=docs, question=query)"
   ]
  },
  {
   "cell_type": "code",
   "execution_count": null,
   "id": "c0ec2aec-b6b3-471f-8bb0-6557e1f01476",
   "metadata": {},
   "outputs": [],
   "source": [
    "#THE CHATBOT\n",
    "from langchain.chains.question_answering import load_qa_chain\n",
    "\n",
    "def load_langchain_qa():\n",
    "    llm = OpenAI(temperature=0, openai_api_key=os.environ['OPENAI_API_KEY'])  \n",
    "    chain = load_qa_chain(llm, chain_type=\"stuff\", verbose=True)\n",
    "    return chain\n",
    "\n",
    "def chatbot():\n",
    "    print(\"Chatbot: Hi! I'm your friendly chatbot. Ask me anything or type 'exit' to end the conversation.\")\n",
    "    from langchain.document_loaders import GoogleDriveLoader\n",
    "    loader = GoogleDriveLoader(document_ids=[\"put doc here'\"],\n",
    "                          credentials_path=\"PATH TO credentials.json FILE\")\n",
    "    chain = load_langchain_qa()\n",
    "    chat_history = []\n",
    "    while True:\n",
    "        user_input = input(\"You: \")\n",
    "        if user_input.lower() == \"exit\":\n",
    "            print(\"Chatbot: Goodbye! Have a great day.\")\n",
    "            break\n",
    "        chat_history.append(user_input)\n",
    "        response = chain.run(input_documents=chat_history, question=user_input)\n",
    "        answer = response['answers'][0]['answer'] if response['answers'] else \"I couldn't find an answer to your question.\"\n",
    "        chat_history.append(\"Chatbot: \" + answer)\n",
    "        print(\"Chatbot:\", answer)\n",
    "\n",
    "if __name__ == \"__main__\":\n",
    "    chatbot()\n"
   ]
  }
 ],
 "metadata": {
  "kernelspec": {
   "display_name": "Python 3 (ipykernel)",
   "language": "python",
   "name": "python3"
  },
  "language_info": {
   "codemirror_mode": {
    "name": "ipython",
    "version": 3
   },
   "file_extension": ".py",
   "mimetype": "text/x-python",
   "name": "python",
   "nbconvert_exporter": "python",
   "pygments_lexer": "ipython3",
   "version": "3.11.7"
  }
 },
 "nbformat": 4,
 "nbformat_minor": 5
}
