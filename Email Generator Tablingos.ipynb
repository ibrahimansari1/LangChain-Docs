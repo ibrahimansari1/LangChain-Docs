{
 "cells": [
  {
   "cell_type": "code",
   "execution_count": null,
   "id": "e0ca133e-5afe-4001-b961-87e8088fb603",
   "metadata": {},
   "outputs": [],
   "source": [
    "from langchain.document_loaders import UnstructuredURLLoader\n",
    "from langchain_openai import OpenAI\n",
    "from langchain.chains.summarize import load_summarize_chain\n",
    "from langchain.llms import OpenAI\n",
    "from langchain.text_splitter import RecursiveCharacterTextSplitter\n",
    "from langchain.prompts import PromptTemplate\n",
    "import magic"
   ]
  },
  {
   "cell_type": "code",
   "execution_count": null,
   "id": "c47a3b63-0427-437b-a97d-9056a18c10d7",
   "metadata": {},
   "outputs": [],
   "source": [
    "openai_api_key = '...'"
   ]
  },
  {
   "cell_type": "code",
   "execution_count": null,
   "id": "8adc62ad-3b05-45db-994e-bab8265685eb",
   "metadata": {},
   "outputs": [],
   "source": [
    "def get_company_page(company_path):\n",
    "    y_combinator_url = f\"https://www.ycombinator.com{company_path}\"\n",
    "    \n",
    "    print (y_combinator_url)\n",
    "\n",
    "    loader = UnstructuredURLLoader(urls=[y_combinator_url])\n",
    "    return loader.load()\n",
    "\n",
    "\n",
    "# Get the data of the company you're interested in\n",
    "data = get_company_page(\"/companies/poly\")\n",
    "    \n",
    "print (f\"You have {len(data)} document(s)\")"
   ]
  },
  {
   "cell_type": "code",
   "execution_count": null,
   "id": "2d38ef01-0716-4282-96cc-38a17b274a91",
   "metadata": {},
   "outputs": [],
   "source": [
    "# Split up the texts so you don't run into token limits\n",
    "text_splitter = RecursiveCharacterTextSplitter(\n",
    "    # Set a really small chunk size, just to show.\n",
    "    chunk_size = 600,\n",
    "    chunk_overlap  = 0\n",
    ")\n",
    "docs = text_splitter.split_documents(data)\n",
    "len(docs)"
   ]
  },
  {
   "cell_type": "code",
   "execution_count": null,
   "id": "9b4705da-4346-49ec-bd0b-2c7d415de485",
   "metadata": {},
   "outputs": [],
   "source": [
    "map_prompt = \"\"\"Below is a section of a website about {prospect}\n",
    "\n",
    "Write a concise summary about {prospect}. If the information is not about {prospect}, exclude it from your summary.\n",
    "\n",
    "{text}\n",
    "\n",
    "% CONCISE SUMMARY:\"\"\"\n",
    "map_prompt_template = PromptTemplate(template=map_prompt, input_variables=[\"text\", \"prospect\"])\n",
    "\n",
    "combine_prompt = \"\"\"\n",
    "Your goal is to write a personalized outbound email from {sales_rep}, a sales rep at {company} to {prospect}.\n",
    "\n",
    "A good email is personalized and combines information about the two companies on how they can help each other.\n",
    "Be sure to use value selling: A sales methodology that focuses on how your product or service will provide value to the customer instead of focusing on price or solution.\n",
    "\n",
    "% INFORMATION ABOUT {company}:\n",
    "{company_information}\n",
    "\n",
    "% INFORMATION ABOUT {prospect}:\n",
    "{text}\n",
    "\n",
    "% INCLUDE THE FOLLOWING PIECES IN YOUR RESPONSE:\n",
    "- Start the email with the sentence: \"We love that {prospect} helps teams...\" then insert what they help teams do.\n",
    "- The sentence: \"We can help you do XYZ by ABC\" Replace XYZ with what {prospect} does and ABC with what {company} does \n",
    "- A 1-2 sentence description about {company}, be brief\n",
    "- End your email with a call-to-action such as asking them to set up time to talk more\n",
    "\n",
    "% YOUR RESPONSE:\n",
    "\"\"\"\n",
    "combine_prompt_template = PromptTemplate(template=combine_prompt, input_variables=[\"sales_rep\", \"company\", \"prospect\", \\\n",
    "                                                                         \"text\", \"company_information\"])\n",
    "\n",
    "company_information = \"\"\"\n",
    "* Tablingos transforms data management for businesses seeking to enhance data integrity and usability:\n",
    "* Comprehensive Data Handling: Tablingos provides a sophisticated platform that empowers businesses to improve the quality and readiness of their data for various applications. It streamlines data validation and transformation through customizable and pre-set rules.\n",
    "* Advanced Data Management Features: The platform is equipped with dual portals designed for efficient administration and customer data handling, ensuring a seamless data management process.\n",
    "* Automated Data Processing Monitoring: With real-time notifications and detailed reporting, Tablingos offers a way to closely monitor the progress of data onboarding and processing, helping businesses to stay informed about their data’s status.\n",
    "* Collaboration and Project Management: Tablingos encourages collaborative efforts through the creation of multiple, segregated workspaces. This feature allows teams to manage projects more effectively, fostering a collaborative environment even in remote or distributed teams.\n",
    "* Dedication to Clean Data Initiatives: The platform's focus on promoting clean data initiatives underlines its commitment to supporting businesses in leveraging their data more effectively. This approach aims to ensure data cleanliness and reliability, which is crucial for informed decision-making and operational efficiency.\n",
    "\"\"\""
   ]
  },
  {
   "cell_type": "code",
   "execution_count": null,
   "id": "01b462e5-bffe-4113-b2c6-4d3f77a55dcd",
   "metadata": {},
   "outputs": [],
   "source": [
    "llm = OpenAI(temperature=.6, openai_api_key=openai_api_key)\n",
    "\n",
    "chain = load_summarize_chain(llm,\n",
    "                             chain_type=\"map_reduce\",\n",
    "                             map_prompt=map_prompt_template,\n",
    "                             combine_prompt=combine_prompt_template,\n",
    "                             verbose=False\n",
    "                            )"
   ]
  },
  {
   "cell_type": "code",
   "execution_count": null,
   "id": "5a40b4ad-24be-463c-8783-73d9ef7cbdbb",
   "metadata": {},
   "outputs": [],
   "source": [
    "import pandas as pd\n",
    "df_companies = pd.read_clipboard()\n",
    "df_companies"
   ]
  },
  {
   "cell_type": "code",
   "execution_count": null,
   "id": "c5ff7df1-2a34-4b8d-82af-321b5240d8bd",
   "metadata": {},
   "outputs": [],
   "source": [
    "for i, company in df_companies.iterrows():\n",
    "    print (f\"{i + 1}. {company['Name']}\")\n",
    "    page_data = get_company_page(company['Link'])\n",
    "    docs = text_splitter.split_documents(page_data)\n",
    "\n",
    "    output = chain({\"input_documents\": docs, \\\n",
    "                \"company\":\"Tablingos\", \\\n",
    "                \"sales_rep\" : \"Ibrahim\", \\\n",
    "                \"prospect\" : company['Name'],\n",
    "                \"company_information\" : company_information\n",
    "               })\n",
    "    \n",
    "    print (output['output_text'])\n",
    "    print (\"\\n\\n\")"
   ]
  },
  {
   "cell_type": "code",
   "execution_count": null,
   "id": "7b24872e-d848-438f-99ff-a8e389143590",
   "metadata": {},
   "outputs": [],
   "source": []
  }
 ],
 "metadata": {
  "kernelspec": {
   "display_name": "Python 3 (ipykernel)",
   "language": "python",
   "name": "python3"
  },
  "language_info": {
   "codemirror_mode": {
    "name": "ipython",
    "version": 3
   },
   "file_extension": ".py",
   "mimetype": "text/x-python",
   "name": "python",
   "nbconvert_exporter": "python",
   "pygments_lexer": "ipython3",
   "version": "3.11.7"
  }
 },
 "nbformat": 4,
 "nbformat_minor": 5
}
